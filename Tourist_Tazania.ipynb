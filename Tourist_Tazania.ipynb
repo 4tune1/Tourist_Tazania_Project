{
 "cells": [
  {
   "cell_type": "code",
   "execution_count": 10,
   "id": "a582d21a-10a8-4576-b037-e99164b3ac53",
   "metadata": {},
   "outputs": [],
   "source": [
    "import pandas as pd\n",
    "import numpy as np\n",
    "import seaborn as sns\n",
    "import matplotlib.pyplot as plt\n",
    "sns.set_style('whitegrid')"
   ]
  },
  {
   "cell_type": "code",
   "execution_count": 11,
   "id": "ae3c6178-5509-4706-a686-8e87f195ddc8",
   "metadata": {},
   "outputs": [
    {
     "data": {
      "text/html": [
       "<div>\n",
       "<style scoped>\n",
       "    .dataframe tbody tr th:only-of-type {\n",
       "        vertical-align: middle;\n",
       "    }\n",
       "\n",
       "    .dataframe tbody tr th {\n",
       "        vertical-align: top;\n",
       "    }\n",
       "\n",
       "    .dataframe thead th {\n",
       "        text-align: right;\n",
       "    }\n",
       "</style>\n",
       "<table border=\"1\" class=\"dataframe\">\n",
       "  <thead>\n",
       "    <tr style=\"text-align: right;\">\n",
       "      <th></th>\n",
       "      <th>ID</th>\n",
       "      <th>country</th>\n",
       "      <th>age_group</th>\n",
       "      <th>travel_with</th>\n",
       "      <th>total_female</th>\n",
       "      <th>total_male</th>\n",
       "      <th>purpose</th>\n",
       "      <th>main_activity</th>\n",
       "      <th>info_source</th>\n",
       "      <th>tour_arrangement</th>\n",
       "      <th>...</th>\n",
       "      <th>package_transport_tz</th>\n",
       "      <th>package_sightseeing</th>\n",
       "      <th>package_guided_tour</th>\n",
       "      <th>package_insurance</th>\n",
       "      <th>night_mainland</th>\n",
       "      <th>night_zanzibar</th>\n",
       "      <th>payment_mode</th>\n",
       "      <th>first_trip_tz</th>\n",
       "      <th>most_impressing</th>\n",
       "      <th>total_cost</th>\n",
       "    </tr>\n",
       "  </thead>\n",
       "  <tbody>\n",
       "    <tr>\n",
       "      <th>0</th>\n",
       "      <td>tour_0</td>\n",
       "      <td>SWIZERLAND</td>\n",
       "      <td>45-64</td>\n",
       "      <td>Friends/Relatives</td>\n",
       "      <td>1.0</td>\n",
       "      <td>1.0</td>\n",
       "      <td>Leisure and Holidays</td>\n",
       "      <td>Wildlife tourism</td>\n",
       "      <td>Friends, relatives</td>\n",
       "      <td>Independent</td>\n",
       "      <td>...</td>\n",
       "      <td>No</td>\n",
       "      <td>No</td>\n",
       "      <td>No</td>\n",
       "      <td>No</td>\n",
       "      <td>13.0</td>\n",
       "      <td>0.0</td>\n",
       "      <td>Cash</td>\n",
       "      <td>No</td>\n",
       "      <td>Friendly People</td>\n",
       "      <td>674602.5</td>\n",
       "    </tr>\n",
       "    <tr>\n",
       "      <th>1</th>\n",
       "      <td>tour_10</td>\n",
       "      <td>UNITED KINGDOM</td>\n",
       "      <td>25-44</td>\n",
       "      <td>NaN</td>\n",
       "      <td>1.0</td>\n",
       "      <td>0.0</td>\n",
       "      <td>Leisure and Holidays</td>\n",
       "      <td>Cultural tourism</td>\n",
       "      <td>others</td>\n",
       "      <td>Independent</td>\n",
       "      <td>...</td>\n",
       "      <td>No</td>\n",
       "      <td>No</td>\n",
       "      <td>No</td>\n",
       "      <td>No</td>\n",
       "      <td>14.0</td>\n",
       "      <td>7.0</td>\n",
       "      <td>Cash</td>\n",
       "      <td>Yes</td>\n",
       "      <td>Wonderful Country, Landscape, Nature</td>\n",
       "      <td>3214906.5</td>\n",
       "    </tr>\n",
       "    <tr>\n",
       "      <th>2</th>\n",
       "      <td>tour_1000</td>\n",
       "      <td>UNITED KINGDOM</td>\n",
       "      <td>25-44</td>\n",
       "      <td>Alone</td>\n",
       "      <td>0.0</td>\n",
       "      <td>1.0</td>\n",
       "      <td>Visiting Friends and Relatives</td>\n",
       "      <td>Cultural tourism</td>\n",
       "      <td>Friends, relatives</td>\n",
       "      <td>Independent</td>\n",
       "      <td>...</td>\n",
       "      <td>No</td>\n",
       "      <td>No</td>\n",
       "      <td>No</td>\n",
       "      <td>No</td>\n",
       "      <td>1.0</td>\n",
       "      <td>31.0</td>\n",
       "      <td>Cash</td>\n",
       "      <td>No</td>\n",
       "      <td>Excellent Experience</td>\n",
       "      <td>3315000.0</td>\n",
       "    </tr>\n",
       "    <tr>\n",
       "      <th>3</th>\n",
       "      <td>tour_1002</td>\n",
       "      <td>UNITED KINGDOM</td>\n",
       "      <td>25-44</td>\n",
       "      <td>Spouse</td>\n",
       "      <td>1.0</td>\n",
       "      <td>1.0</td>\n",
       "      <td>Leisure and Holidays</td>\n",
       "      <td>Wildlife tourism</td>\n",
       "      <td>Travel, agent, tour operator</td>\n",
       "      <td>Package Tour</td>\n",
       "      <td>...</td>\n",
       "      <td>Yes</td>\n",
       "      <td>Yes</td>\n",
       "      <td>Yes</td>\n",
       "      <td>No</td>\n",
       "      <td>11.0</td>\n",
       "      <td>0.0</td>\n",
       "      <td>Cash</td>\n",
       "      <td>Yes</td>\n",
       "      <td>Friendly People</td>\n",
       "      <td>7790250.0</td>\n",
       "    </tr>\n",
       "    <tr>\n",
       "      <th>4</th>\n",
       "      <td>tour_1004</td>\n",
       "      <td>CHINA</td>\n",
       "      <td>1-24</td>\n",
       "      <td>NaN</td>\n",
       "      <td>1.0</td>\n",
       "      <td>0.0</td>\n",
       "      <td>Leisure and Holidays</td>\n",
       "      <td>Wildlife tourism</td>\n",
       "      <td>Travel, agent, tour operator</td>\n",
       "      <td>Independent</td>\n",
       "      <td>...</td>\n",
       "      <td>No</td>\n",
       "      <td>No</td>\n",
       "      <td>No</td>\n",
       "      <td>No</td>\n",
       "      <td>7.0</td>\n",
       "      <td>4.0</td>\n",
       "      <td>Cash</td>\n",
       "      <td>Yes</td>\n",
       "      <td>No comments</td>\n",
       "      <td>1657500.0</td>\n",
       "    </tr>\n",
       "  </tbody>\n",
       "</table>\n",
       "<p>5 rows × 23 columns</p>\n",
       "</div>"
      ],
      "text/plain": [
       "          ID         country age_group        travel_with  total_female  \\\n",
       "0     tour_0      SWIZERLAND     45-64  Friends/Relatives           1.0   \n",
       "1    tour_10  UNITED KINGDOM     25-44                NaN           1.0   \n",
       "2  tour_1000  UNITED KINGDOM     25-44              Alone           0.0   \n",
       "3  tour_1002  UNITED KINGDOM     25-44             Spouse           1.0   \n",
       "4  tour_1004           CHINA      1-24                NaN           1.0   \n",
       "\n",
       "   total_male                         purpose     main_activity  \\\n",
       "0         1.0            Leisure and Holidays  Wildlife tourism   \n",
       "1         0.0            Leisure and Holidays  Cultural tourism   \n",
       "2         1.0  Visiting Friends and Relatives  Cultural tourism   \n",
       "3         1.0            Leisure and Holidays  Wildlife tourism   \n",
       "4         0.0            Leisure and Holidays  Wildlife tourism   \n",
       "\n",
       "                    info_source tour_arrangement  ... package_transport_tz  \\\n",
       "0            Friends, relatives      Independent  ...                   No   \n",
       "1                        others      Independent  ...                   No   \n",
       "2            Friends, relatives      Independent  ...                   No   \n",
       "3  Travel, agent, tour operator     Package Tour  ...                  Yes   \n",
       "4  Travel, agent, tour operator      Independent  ...                   No   \n",
       "\n",
       "  package_sightseeing package_guided_tour package_insurance night_mainland  \\\n",
       "0                  No                  No                No           13.0   \n",
       "1                  No                  No                No           14.0   \n",
       "2                  No                  No                No            1.0   \n",
       "3                 Yes                 Yes                No           11.0   \n",
       "4                  No                  No                No            7.0   \n",
       "\n",
       "  night_zanzibar payment_mode  first_trip_tz  \\\n",
       "0            0.0         Cash             No   \n",
       "1            7.0         Cash            Yes   \n",
       "2           31.0         Cash             No   \n",
       "3            0.0         Cash            Yes   \n",
       "4            4.0         Cash            Yes   \n",
       "\n",
       "                        most_impressing total_cost  \n",
       "0                       Friendly People   674602.5  \n",
       "1  Wonderful Country, Landscape, Nature  3214906.5  \n",
       "2                  Excellent Experience  3315000.0  \n",
       "3                       Friendly People  7790250.0  \n",
       "4                           No comments  1657500.0  \n",
       "\n",
       "[5 rows x 23 columns]"
      ]
     },
     "execution_count": 11,
     "metadata": {},
     "output_type": "execute_result"
    }
   ],
   "source": [
    "df = pd.read_csv('Train.csv')\n",
    "df.head()"
   ]
  },
  {
   "cell_type": "code",
   "execution_count": 12,
   "id": "2ab55f63-0ab6-4897-bde2-da24263663f7",
   "metadata": {},
   "outputs": [
    {
     "data": {
      "text/plain": [
       "ID                          0\n",
       "country                     0\n",
       "age_group                   0\n",
       "travel_with              1114\n",
       "total_female                3\n",
       "total_male                  5\n",
       "purpose                     0\n",
       "main_activity               0\n",
       "info_source                 0\n",
       "tour_arrangement            0\n",
       "package_transport_int       0\n",
       "package_accomodation        0\n",
       "package_food                0\n",
       "package_transport_tz        0\n",
       "package_sightseeing         0\n",
       "package_guided_tour         0\n",
       "package_insurance           0\n",
       "night_mainland              0\n",
       "night_zanzibar              0\n",
       "payment_mode                0\n",
       "first_trip_tz               0\n",
       "most_impressing           313\n",
       "total_cost                  0\n",
       "dtype: int64"
      ]
     },
     "execution_count": 12,
     "metadata": {},
     "output_type": "execute_result"
    }
   ],
   "source": [
    "df.isnull().sum()"
   ]
  },
  {
   "cell_type": "code",
   "execution_count": 13,
   "id": "eba0ca08-d59e-481a-b6f8-472594a4d0b3",
   "metadata": {},
   "outputs": [],
   "source": [
    "df['travel_with'].fillna(value = 0, inplace=True)\n",
    "df['total_male'].fillna(value = df['total_male'].mean(), inplace=True)\n",
    "df['total_female'].fillna(value = df['total_female'].mean(), inplace=True)\n",
    "df['most_impressing'].fillna(value = df['most_impressing'].mode(), inplace=True)"
   ]
  },
  {
   "cell_type": "code",
   "execution_count": 14,
   "id": "2dd88414-19c1-4e63-8e69-35c7f943c362",
   "metadata": {},
   "outputs": [
    {
     "data": {
      "text/plain": [
       "ID                         0\n",
       "country                    0\n",
       "age_group                  0\n",
       "travel_with                0\n",
       "total_female               0\n",
       "total_male                 0\n",
       "purpose                    0\n",
       "main_activity              0\n",
       "info_source                0\n",
       "tour_arrangement           0\n",
       "package_transport_int      0\n",
       "package_accomodation       0\n",
       "package_food               0\n",
       "package_transport_tz       0\n",
       "package_sightseeing        0\n",
       "package_guided_tour        0\n",
       "package_insurance          0\n",
       "night_mainland             0\n",
       "night_zanzibar             0\n",
       "payment_mode               0\n",
       "first_trip_tz              0\n",
       "most_impressing          313\n",
       "total_cost                 0\n",
       "dtype: int64"
      ]
     },
     "execution_count": 14,
     "metadata": {},
     "output_type": "execute_result"
    }
   ],
   "source": [
    "df.isnull().sum()"
   ]
  },
  {
   "cell_type": "code",
   "execution_count": 15,
   "id": "4a7b48ca-2949-4683-91cb-79b6026b4a9b",
   "metadata": {},
   "outputs": [
    {
     "data": {
      "text/plain": [
       "105"
      ]
     },
     "execution_count": 15,
     "metadata": {},
     "output_type": "execute_result"
    }
   ],
   "source": [
    "df['country'].nunique()"
   ]
  },
  {
   "cell_type": "code",
   "execution_count": 30,
   "id": "46eac6f3-029f-48f1-ac57-239b95ee7a3a",
   "metadata": {},
   "outputs": [],
   "source": [
    "## we have tourist from 105 countries that has visited Tansania##"
   ]
  },
  {
   "cell_type": "code",
   "execution_count": 16,
   "id": "7fb02332-6d31-4489-8e59-69f4c4f56d07",
   "metadata": {},
   "outputs": [
    {
     "data": {
      "text/plain": [
       "country\n",
       "ALGERIA                       2\n",
       "ANGOLA                        1\n",
       "ARGENTINA                     1\n",
       "AUSTRALIA                   186\n",
       "AUSTRIA                      18\n",
       "                           ... \n",
       "UNITED STATES OF AMERICA    695\n",
       "URUGUAY                       1\n",
       "YEMEN                         2\n",
       "ZAMBIA                      191\n",
       "ZIMBABWE                    274\n",
       "Name: ID, Length: 105, dtype: int64"
      ]
     },
     "execution_count": 16,
     "metadata": {},
     "output_type": "execute_result"
    }
   ],
   "source": [
    "df.groupby('country')['ID'].count()"
   ]
  },
  {
   "cell_type": "code",
   "execution_count": 19,
   "id": "99495923-1203-4cd3-9b8e-ccf5520b37df",
   "metadata": {},
   "outputs": [
    {
     "data": {
      "text/plain": [
       "age_group\n",
       "1-24      624\n",
       "25-44    2487\n",
       "45-64    1391\n",
       "65+       307\n",
       "Name: ID, dtype: int64"
      ]
     },
     "execution_count": 19,
     "metadata": {},
     "output_type": "execute_result"
    }
   ],
   "source": [
    "df.groupby('age_group')['ID'].count()"
   ]
  },
  {
   "cell_type": "code",
   "execution_count": 13,
   "id": "b69e7e31-29bf-42f7-92ff-0aec58d30730",
   "metadata": {},
   "outputs": [
    {
     "data": {
      "image/png": "[encoded data removed]",
      "text/plain": [
       "<Figure size 432x288 with 1 Axes>"
      ]
     },
     "metadata": {},
     "output_type": "display_data"
    }
   ],
   "source": [
    "sns.histplot(x = 'age_group', data = df)\n",
    "plt.show()"
   ]
  },
  {
   "cell_type": "code",
   "execution_count": null,
   "id": "be87bca4-dcc9-4886-90eb-cf9680a74636",
   "metadata": {},
   "outputs": [],
   "source": [
    "#it shows age group of 25-44 tourists travel more to Tanzania "
   ]
  },
  {
   "cell_type": "code",
   "execution_count": 21,
   "id": "a871b860-31e0-498f-85a3-a48700299f9f",
   "metadata": {},
   "outputs": [
    {
     "data": {
      "text/plain": [
       "'45-64'"
      ]
     },
     "execution_count": 21,
     "metadata": {},
     "output_type": "execute_result"
    }
   ],
   "source": [
    "cost = df.groupby('age_group')['total_cost'].sum()\n",
    "cost.idxmax()"
   ]
  },
  {
   "cell_type": "code",
   "execution_count": 15,
   "id": "2e6cca95-5235-4d8a-ae3b-3d277835a337",
   "metadata": {},
   "outputs": [
    {
     "data": {
      "image/png": "[encoded data removed]",
      "text/plain": [
       "<Figure size 432x288 with 1 Axes>"
      ]
     },
     "metadata": {},
     "output_type": "display_data"
    }
   ],
   "source": [
    "sns.barplot(x = 'age_group', y = 'total_cost', data = df)\n",
    "plt.show()"
   ]
  },
  {
   "cell_type": "code",
   "execution_count": null,
   "id": "eecbd7a0-7cdc-4a1c-9062-7c33cc658afd",
   "metadata": {},
   "outputs": [],
   "source": [
    "# it can be deduced from the data that tourist with the age of 65 and above spent more in tourism"
   ]
  },
  {
   "cell_type": "code",
   "execution_count": 16,
   "id": "0ee4e9c4-8ca5-44a7-90cb-b9d143b1c660",
   "metadata": {},
   "outputs": [
    {
     "data": {
      "text/plain": [
       "'Leisure and Holidays'"
      ]
     },
     "execution_count": 16,
     "metadata": {},
     "output_type": "execute_result"
    }
   ],
   "source": [
    "purp = df.groupby('purpose')['total_cost'].sum()\n",
    "purp.idxmax()"
   ]
  },
  {
   "cell_type": "code",
   "execution_count": 45,
   "id": "d226f97d-2e07-42f4-8c82-19ffa489db8e",
   "metadata": {},
   "outputs": [
    {
     "data": {
      "image/png": "[encoded data removed]",
      "text/plain": [
       "<Figure size 864x1080 with 1 Axes>"
      ]
     },
     "metadata": {},
     "output_type": "display_data"
    }
   ],
   "source": [
    "sns.barplot(x = 'purpose', y = 'total_cost', data = df)\n",
    "plt.rcParams['figure.figsize'] = [15,15]\n",
    "plt.show()"
   ]
  },
  {
   "cell_type": "code",
   "execution_count": 27,
   "id": "d2e73dea-e11f-4291-96e6-3bba08e40fe2",
   "metadata": {},
   "outputs": [
    {
     "data": {
      "text/plain": [
       "info_source\n",
       "Friends, relatives                1635\n",
       "Newspaper, magazines,brochures     359\n",
       "Radio, TV, Web                     249\n",
       "Tanzania Mission Abroad             68\n",
       "Trade fair                          77\n",
       "Travel, agent, tour operator      1913\n",
       "inflight magazines                  18\n",
       "others                             490\n",
       "Name: ID, dtype: int64"
      ]
     },
     "execution_count": 27,
     "metadata": {},
     "output_type": "execute_result"
    }
   ],
   "source": [
    "df.groupby('info_source')['ID'].count()"
   ]
  },
  {
   "cell_type": "code",
   "execution_count": 37,
   "id": "52e8b75f-ca97-4a07-9b56-231f32081f14",
   "metadata": {},
   "outputs": [
    {
     "data": {
      "image/png": "[encoded data removed]",
      "text/plain": [
       "<Figure size 360x360 with 1 Axes>"
      ]
     },
     "metadata": {},
     "output_type": "display_data"
    }
   ],
   "source": [
    "sns.displot(x = 'info_source', y= 'ID', data = df)\n",
    "plt.show()"
   ]
  },
  {
   "cell_type": "code",
   "execution_count": null,
   "id": "8c25a48b-518a-4c64-9b3d-65e78502a823",
   "metadata": {},
   "outputs": [],
   "source": [
    "#Much money are spent on leisure and holidays."
   ]
  },
  {
   "cell_type": "code",
   "execution_count": 56,
   "id": "f38df1b5-d3b0-4941-9917-5f42db9b5320",
   "metadata": {},
   "outputs": [
    {
     "data": {
      "text/plain": [
       "'Travel, agent, tour operator'"
      ]
     },
     "execution_count": 56,
     "metadata": {},
     "output_type": "execute_result"
    }
   ],
   "source": [
    "source = df.groupby('info_source')['total_cost'].sum()\n",
    "source.idxmax()"
   ]
  },
  {
   "cell_type": "code",
   "execution_count": 57,
   "id": "94db3032-e63e-4753-88db-b254d2360e00",
   "metadata": {},
   "outputs": [
    {
     "data": {
      "image/png": "[encoded data removed]",
      "text/plain": [
       "<Figure size 1080x1080 with 1 Axes>"
      ]
     },
     "metadata": {},
     "output_type": "display_data"
    }
   ],
   "source": [
    "sns.barplot(x = 'info_source', y = 'total_cost', data = df)\n",
    "plt.rcParams['figure.figsize'] = [15,15]\n",
    "plt.show()"
   ]
  },
  {
   "cell_type": "code",
   "execution_count": 58,
   "id": "ebc3e9c5-5fb4-4d6c-a918-330d281f8eec",
   "metadata": {},
   "outputs": [],
   "source": [
    "# Travel agent and tour operator source is more espensive than other sources, while inflight madazines newspaper is the cheapest"
   ]
  },
  {
   "cell_type": "code",
   "execution_count": 76,
   "id": "e6809100-b456-4a8c-a3f4-c3acae53a613",
   "metadata": {},
   "outputs": [
    {
     "data": {
      "text/plain": [
       "'UNITED STATES OF AMERICA'"
      ]
     },
     "execution_count": 76,
     "metadata": {},
     "output_type": "execute_result"
    }
   ],
   "source": [
    "country = df.groupby('country')['total_cost'].sum()\n",
    "country.idxmax()"
   ]
  },
  {
   "cell_type": "code",
   "execution_count": 80,
   "id": "fdd0d521-4517-47b2-8332-b9aa509ca046",
   "metadata": {},
   "outputs": [],
   "source": [
    "#tourist from united State of America spent more than tourists from other countries"
   ]
  },
  {
   "cell_type": "code",
   "execution_count": 75,
   "id": "c582ea43-d87a-4892-b3d4-fa7b998ff934",
   "metadata": {},
   "outputs": [
    {
     "data": {
      "text/plain": [
       "array(['Wildlife tourism', 'Cultural tourism', 'Mountain climbing',\n",
       "       'Beach tourism', 'Conference tourism', 'Hunting tourism',\n",
       "       'Bird watching', 'business', 'Diving and Sport Fishing'],\n",
       "      dtype=object)"
      ]
     },
     "execution_count": 75,
     "metadata": {},
     "output_type": "execute_result"
    }
   ],
   "source": [
    "df['main_activity'].unique()"
   ]
  },
  {
   "cell_type": "code",
   "execution_count": 83,
   "id": "8733f0d3-ed81-46e1-bd5d-6499d1ce1261",
   "metadata": {},
   "outputs": [
    {
     "data": {
      "text/plain": [
       "'Wildlife tourism'"
      ]
     },
     "execution_count": 83,
     "metadata": {},
     "output_type": "execute_result"
    }
   ],
   "source": [
    "activity = df.groupby('main_activity')['total_cost'].sum()\n",
    "activity.idxmax()"
   ]
  },
  {
   "cell_type": "code",
   "execution_count": 84,
   "id": "7038376a-74b7-4801-887e-14feb96a2645",
   "metadata": {},
   "outputs": [
    {
     "data": {
      "image/png": "[encoded data removed]",
      "text/plain": [
       "<Figure size 1080x1080 with 1 Axes>"
      ]
     },
     "metadata": {},
     "output_type": "display_data"
    }
   ],
   "source": [
    "sns.barplot(x = 'main_activity', y = 'total_cost', data = df)\n",
    "plt.rcParams['figure.figsize'] = [10,15]\n",
    "plt.show()"
   ]
  },
  {
   "cell_type": "code",
   "execution_count": 17,
   "id": "b59b6a5a-fb0d-4a8e-a3b2-d881128fa746",
   "metadata": {},
   "outputs": [
    {
     "name": "stdout",
     "output_type": "stream",
     "text": [
      "tourists of 45-64 age group, spent more on Wildlife tourism\n",
      "tourists of 45-64 age group, spent less on Diving and Sport Fishing\n",
      "\n",
      "tourists of 25-44 age group, spent more on Wildlife tourism\n",
      "tourists of 25-44 age group, spent less on Bird watching\n",
      "\n",
      "tourists of 1-24 age group, spent more on Wildlife tourism\n",
      "tourists of 1-24 age group, spent less on Mountain climbing\n",
      "\n",
      "tourists of 65+ age group, spent more on Wildlife tourism\n",
      "tourists of 65+ age group, spent less on Mountain climbing\n",
      "\n"
     ]
    }
   ],
   "source": [
    "for age in df['age_group'].unique():\n",
    "    a = df[df['age_group'] == age].groupby('main_activity')['total_cost'].sum().idxmax()\n",
    "    b = df[df['age_group'] == age].groupby('main_activity')['total_cost'].sum().idxmin()\n",
    "    print(f'tourists of {age} age group, spent more on {a}')\n",
    "    print(f'tourists of {age} age group, spent less on {b}\\n')"
   ]
  },
  {
   "cell_type": "code",
   "execution_count": null,
   "id": "32b61f55-4bdd-4bc3-9397-94e668bd28c0",
   "metadata": {},
   "outputs": [],
   "source": [
    "From the analysis, it was gathered that tourists within the age of 25-44 travel more to Tanzania, while,\n",
    "those within age range of 65 and above spent more on tourism, followed by tourists within \n",
    "the age range of 45-64. more money were spent on holiday and leisure, and the main activity that much money spent on  was Wildlife tourism.\n",
    "It was also deduced that highest number of tourists from united state of America spent more. From the data it was deduced that \n",
    "Travel agent, tour operator that was the highest number of source info and in the same line it was the source with highest cost."
   ]
  }
 ],
 "metadata": {
  "kernelspec": {
   "display_name": "Python 3 (ipykernel)",
   "language": "python",
   "name": "python3"
  },
  "language_info": {
   "codemirror_mode": {
    "name": "ipython",
    "version": 3
   },
   "file_extension": ".py",
   "mimetype": "text/x-python",
   "name": "python",
   "nbconvert_exporter": "python",
   "pygments_lexer": "ipython3",
   "version": "3.9.7"
  }
 },
 "nbformat": 4,
 "nbformat_minor": 5
}
